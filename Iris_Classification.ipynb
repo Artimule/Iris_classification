{
 "cells": [
  {
   "cell_type": "markdown",
   "id": "4e1c29b3",
   "metadata": {},
   "source": [
    "# Task 1\n",
    "\n",
    "Project: IRIS FLOWERS CLASSIFICATION<br>\n",
    "Dataset: IRIS FLOWER DATASET<br>\n",
    "Dataset Link: https://archive.ics.uci.edu/dataset/53/iris OR<br>\n",
    "https://www.kaggle.com/datasets/uciml/iris\n"
   ]
  },
  {
   "cell_type": "markdown",
   "id": "865b03bd",
   "metadata": {},
   "source": [
    "# Dataset Information\n",
    "The data set contains 3 classes of 50 instances each, where each class refers to a type of iris plant.\n",
    "One class is linearly separable from the other 2; the latter are NOT linearly separable from each other.\n",
    "\n",
    "Attribute Information:\n",
    "\n",
    "sepal length in cm<br>\n",
    "sepal width in cm<br>\n",
    "petal length in cm<br>\n",
    "petal width in cm<br>\n",
    "class:<br>\n",
    "-- Iris Setosa -- Iris Versicolour -- Iris Virginica"
   ]
  },
  {
   "cell_type": "code",
   "execution_count": 7,
   "id": "41ef1700",
   "metadata": {},
   "outputs": [],
   "source": [
    "# Import Modules\n",
    "import pandas as pd # to manipulate data using dataframes\n",
    "import numpy as np # to perform mathematical operations on arrays\n",
    "import os\n",
    "# to visualise the results\n",
    "import seaborn as sns\n",
    "import matplotlib.pyplot as plt\n",
    "%matplotlib inline"
   ]
  },
  {
   "cell_type": "code",
   "execution_count": 8,
   "id": "a157a46b",
   "metadata": {},
   "outputs": [
    {
     "name": "stdout",
     "output_type": "stream",
     "text": [
      "      Id  SepalLengthCm  SepalWidthCm  PetalLengthCm  PetalWidthCm  \\\n",
      "0      1            5.1           3.5            1.4           0.2   \n",
      "1      2            4.9           3.0            1.4           0.2   \n",
      "2      3            4.7           3.2            1.3           0.2   \n",
      "3      4            4.6           3.1            1.5           0.2   \n",
      "4      5            5.0           3.6            1.4           0.2   \n",
      "..   ...            ...           ...            ...           ...   \n",
      "145  146            6.7           3.0            5.2           2.3   \n",
      "146  147            6.3           2.5            5.0           1.9   \n",
      "147  148            6.5           3.0            5.2           2.0   \n",
      "148  149            6.2           3.4            5.4           2.3   \n",
      "149  150            5.9           3.0            5.1           1.8   \n",
      "\n",
      "            Species  \n",
      "0       Iris-setosa  \n",
      "1       Iris-setosa  \n",
      "2       Iris-setosa  \n",
      "3       Iris-setosa  \n",
      "4       Iris-setosa  \n",
      "..              ...  \n",
      "145  Iris-virginica  \n",
      "146  Iris-virginica  \n",
      "147  Iris-virginica  \n",
      "148  Iris-virginica  \n",
      "149  Iris-virginica  \n",
      "\n",
      "[150 rows x 6 columns]\n"
     ]
    }
   ],
   "source": [
    "# Loading the Dataset\n",
    "df = pd.read_csv('Iris.csv')\n",
    "print(df)"
   ]
  },
  {
   "cell_type": "markdown",
   "id": "5664c76f",
   "metadata": {},
   "source": [
    "**We can see above that our data has been loaded into a pandas dataframe. There are six columns: Id, SepalLengthCm,\tSepalWidthCm, PetalLengthCm, PetalWidthCm, Species.**<br>\n",
    "\n",
    "**Id:** An identifier or index for each data entry. It seems to be a unique identifier for each row in the dataset.<br>\n",
    "**SepalLengthCm:** The length of the sepal (a part of the flower) in centimeters.<br>\n",
    "**SepalWidthCm:** The width of the sepal in centimeters.<br>\n",
    "**PetalLengthCm:** The length of the petal (another part of the flower) in centimeters.<br>\n",
    "**PetalWidthCm:** The width of the petal in centimeters.<br>\n",
    "**Species:** The species of the iris flower. This column likely contains categorical values representing different species of iris flowers, such as 'setosa', 'versicolor', and 'virginica'.\n"
   ]
  },
  {
   "cell_type": "code",
   "execution_count": 9,
   "id": "f271832a",
   "metadata": {},
   "outputs": [],
   "source": [
    "df =df.drop(columns=['Id'])"
   ]
  },
  {
   "cell_type": "code",
   "execution_count": 10,
   "id": "47382b33",
   "metadata": {},
   "outputs": [
    {
     "data": {
      "text/html": [
       "<div>\n",
       "<style scoped>\n",
       "    .dataframe tbody tr th:only-of-type {\n",
       "        vertical-align: middle;\n",
       "    }\n",
       "\n",
       "    .dataframe tbody tr th {\n",
       "        vertical-align: top;\n",
       "    }\n",
       "\n",
       "    .dataframe thead th {\n",
       "        text-align: right;\n",
       "    }\n",
       "</style>\n",
       "<table border=\"1\" class=\"dataframe\">\n",
       "  <thead>\n",
       "    <tr style=\"text-align: right;\">\n",
       "      <th></th>\n",
       "      <th>SepalLengthCm</th>\n",
       "      <th>SepalWidthCm</th>\n",
       "      <th>PetalLengthCm</th>\n",
       "      <th>PetalWidthCm</th>\n",
       "      <th>Species</th>\n",
       "    </tr>\n",
       "  </thead>\n",
       "  <tbody>\n",
       "    <tr>\n",
       "      <th>0</th>\n",
       "      <td>5.1</td>\n",
       "      <td>3.5</td>\n",
       "      <td>1.4</td>\n",
       "      <td>0.2</td>\n",
       "      <td>Iris-setosa</td>\n",
       "    </tr>\n",
       "    <tr>\n",
       "      <th>1</th>\n",
       "      <td>4.9</td>\n",
       "      <td>3.0</td>\n",
       "      <td>1.4</td>\n",
       "      <td>0.2</td>\n",
       "      <td>Iris-setosa</td>\n",
       "    </tr>\n",
       "    <tr>\n",
       "      <th>2</th>\n",
       "      <td>4.7</td>\n",
       "      <td>3.2</td>\n",
       "      <td>1.3</td>\n",
       "      <td>0.2</td>\n",
       "      <td>Iris-setosa</td>\n",
       "    </tr>\n",
       "    <tr>\n",
       "      <th>3</th>\n",
       "      <td>4.6</td>\n",
       "      <td>3.1</td>\n",
       "      <td>1.5</td>\n",
       "      <td>0.2</td>\n",
       "      <td>Iris-setosa</td>\n",
       "    </tr>\n",
       "    <tr>\n",
       "      <th>4</th>\n",
       "      <td>5.0</td>\n",
       "      <td>3.6</td>\n",
       "      <td>1.4</td>\n",
       "      <td>0.2</td>\n",
       "      <td>Iris-setosa</td>\n",
       "    </tr>\n",
       "  </tbody>\n",
       "</table>\n",
       "</div>"
      ],
      "text/plain": [
       "   SepalLengthCm  SepalWidthCm  PetalLengthCm  PetalWidthCm      Species\n",
       "0            5.1           3.5            1.4           0.2  Iris-setosa\n",
       "1            4.9           3.0            1.4           0.2  Iris-setosa\n",
       "2            4.7           3.2            1.3           0.2  Iris-setosa\n",
       "3            4.6           3.1            1.5           0.2  Iris-setosa\n",
       "4            5.0           3.6            1.4           0.2  Iris-setosa"
      ]
     },
     "execution_count": 10,
     "metadata": {},
     "output_type": "execute_result"
    }
   ],
   "source": [
    "df.head()"
   ]
  },
  {
   "cell_type": "code",
   "execution_count": 11,
   "id": "4ea546fb",
   "metadata": {},
   "outputs": [
    {
     "name": "stdout",
     "output_type": "stream",
     "text": [
      "<class 'pandas.core.frame.DataFrame'>\n",
      "RangeIndex: 150 entries, 0 to 149\n",
      "Data columns (total 5 columns):\n",
      " #   Column         Non-Null Count  Dtype  \n",
      "---  ------         --------------  -----  \n",
      " 0   SepalLengthCm  150 non-null    float64\n",
      " 1   SepalWidthCm   150 non-null    float64\n",
      " 2   PetalLengthCm  150 non-null    float64\n",
      " 3   PetalWidthCm   150 non-null    float64\n",
      " 4   Species        150 non-null    object \n",
      "dtypes: float64(4), object(1)\n",
      "memory usage: 6.0+ KB\n"
     ]
    }
   ],
   "source": [
    "# to basic info about datatype\n",
    "df.info()"
   ]
  },
  {
   "cell_type": "code",
   "execution_count": 12,
   "id": "129db026",
   "metadata": {},
   "outputs": [
    {
     "data": {
      "text/plain": [
       "(150, 5)"
      ]
     },
     "execution_count": 12,
     "metadata": {},
     "output_type": "execute_result"
    }
   ],
   "source": [
    "df.shape"
   ]
  },
  {
   "cell_type": "code",
   "execution_count": 13,
   "id": "8df7a433",
   "metadata": {},
   "outputs": [
    {
     "data": {
      "text/plain": [
       "SepalLengthCm    0\n",
       "SepalWidthCm     0\n",
       "PetalLengthCm    0\n",
       "PetalWidthCm     0\n",
       "Species          0\n",
       "dtype: int64"
      ]
     },
     "execution_count": 13,
     "metadata": {},
     "output_type": "execute_result"
    }
   ],
   "source": [
    "df.isnull().sum()"
   ]
  },
  {
   "cell_type": "code",
   "execution_count": 14,
   "id": "b74b433f",
   "metadata": {},
   "outputs": [
    {
     "data": {
      "text/plain": [
       "Iris-setosa        50\n",
       "Iris-versicolor    50\n",
       "Iris-virginica     50\n",
       "Name: Species, dtype: int64"
      ]
     },
     "execution_count": 14,
     "metadata": {},
     "output_type": "execute_result"
    }
   ],
   "source": [
    "# to display no. of samples on each class\n",
    "df['Species'].value_counts()"
   ]
  },
  {
   "cell_type": "code",
   "execution_count": 15,
   "id": "0573e039",
   "metadata": {},
   "outputs": [
    {
     "data": {
      "text/html": [
       "<div>\n",
       "<style scoped>\n",
       "    .dataframe tbody tr th:only-of-type {\n",
       "        vertical-align: middle;\n",
       "    }\n",
       "\n",
       "    .dataframe tbody tr th {\n",
       "        vertical-align: top;\n",
       "    }\n",
       "\n",
       "    .dataframe thead th {\n",
       "        text-align: right;\n",
       "    }\n",
       "</style>\n",
       "<table border=\"1\" class=\"dataframe\">\n",
       "  <thead>\n",
       "    <tr style=\"text-align: right;\">\n",
       "      <th></th>\n",
       "      <th>SepalLengthCm</th>\n",
       "      <th>SepalWidthCm</th>\n",
       "      <th>PetalLengthCm</th>\n",
       "      <th>PetalWidthCm</th>\n",
       "      <th>Species</th>\n",
       "    </tr>\n",
       "  </thead>\n",
       "  <tbody>\n",
       "    <tr>\n",
       "      <th>34</th>\n",
       "      <td>4.9</td>\n",
       "      <td>3.1</td>\n",
       "      <td>1.5</td>\n",
       "      <td>0.1</td>\n",
       "      <td>Iris-setosa</td>\n",
       "    </tr>\n",
       "    <tr>\n",
       "      <th>37</th>\n",
       "      <td>4.9</td>\n",
       "      <td>3.1</td>\n",
       "      <td>1.5</td>\n",
       "      <td>0.1</td>\n",
       "      <td>Iris-setosa</td>\n",
       "    </tr>\n",
       "    <tr>\n",
       "      <th>142</th>\n",
       "      <td>5.8</td>\n",
       "      <td>2.7</td>\n",
       "      <td>5.1</td>\n",
       "      <td>1.9</td>\n",
       "      <td>Iris-virginica</td>\n",
       "    </tr>\n",
       "  </tbody>\n",
       "</table>\n",
       "</div>"
      ],
      "text/plain": [
       "     SepalLengthCm  SepalWidthCm  PetalLengthCm  PetalWidthCm         Species\n",
       "34             4.9           3.1            1.5           0.1     Iris-setosa\n",
       "37             4.9           3.1            1.5           0.1     Iris-setosa\n",
       "142            5.8           2.7            5.1           1.9  Iris-virginica"
      ]
     },
     "execution_count": 15,
     "metadata": {},
     "output_type": "execute_result"
    }
   ],
   "source": [
    "df[df.duplicated()]"
   ]
  },
  {
   "cell_type": "code",
   "execution_count": 16,
   "id": "eb227be7",
   "metadata": {},
   "outputs": [],
   "source": [
    "df.drop_duplicates(inplace=True)"
   ]
  },
  {
   "cell_type": "code",
   "execution_count": 17,
   "id": "578434cd",
   "metadata": {},
   "outputs": [
    {
     "data": {
      "text/plain": [
       "0"
      ]
     },
     "execution_count": 17,
     "metadata": {},
     "output_type": "execute_result"
    }
   ],
   "source": [
    "df.duplicated().sum()"
   ]
  },
  {
   "cell_type": "code",
   "execution_count": 18,
   "id": "b49b406d",
   "metadata": {},
   "outputs": [
    {
     "data": {
      "text/html": [
       "<div>\n",
       "<style scoped>\n",
       "    .dataframe tbody tr th:only-of-type {\n",
       "        vertical-align: middle;\n",
       "    }\n",
       "\n",
       "    .dataframe tbody tr th {\n",
       "        vertical-align: top;\n",
       "    }\n",
       "\n",
       "    .dataframe thead th {\n",
       "        text-align: right;\n",
       "    }\n",
       "</style>\n",
       "<table border=\"1\" class=\"dataframe\">\n",
       "  <thead>\n",
       "    <tr style=\"text-align: right;\">\n",
       "      <th></th>\n",
       "      <th>SepalLengthCm</th>\n",
       "      <th>SepalWidthCm</th>\n",
       "      <th>PetalLengthCm</th>\n",
       "      <th>PetalWidthCm</th>\n",
       "    </tr>\n",
       "  </thead>\n",
       "  <tbody>\n",
       "    <tr>\n",
       "      <th>count</th>\n",
       "      <td>147.000000</td>\n",
       "      <td>147.000000</td>\n",
       "      <td>147.000000</td>\n",
       "      <td>147.000000</td>\n",
       "    </tr>\n",
       "    <tr>\n",
       "      <th>mean</th>\n",
       "      <td>5.856463</td>\n",
       "      <td>3.055782</td>\n",
       "      <td>3.780272</td>\n",
       "      <td>1.208844</td>\n",
       "    </tr>\n",
       "    <tr>\n",
       "      <th>std</th>\n",
       "      <td>0.829100</td>\n",
       "      <td>0.437009</td>\n",
       "      <td>1.759111</td>\n",
       "      <td>0.757874</td>\n",
       "    </tr>\n",
       "    <tr>\n",
       "      <th>min</th>\n",
       "      <td>4.300000</td>\n",
       "      <td>2.000000</td>\n",
       "      <td>1.000000</td>\n",
       "      <td>0.100000</td>\n",
       "    </tr>\n",
       "    <tr>\n",
       "      <th>25%</th>\n",
       "      <td>5.100000</td>\n",
       "      <td>2.800000</td>\n",
       "      <td>1.600000</td>\n",
       "      <td>0.300000</td>\n",
       "    </tr>\n",
       "    <tr>\n",
       "      <th>50%</th>\n",
       "      <td>5.800000</td>\n",
       "      <td>3.000000</td>\n",
       "      <td>4.400000</td>\n",
       "      <td>1.300000</td>\n",
       "    </tr>\n",
       "    <tr>\n",
       "      <th>75%</th>\n",
       "      <td>6.400000</td>\n",
       "      <td>3.300000</td>\n",
       "      <td>5.100000</td>\n",
       "      <td>1.800000</td>\n",
       "    </tr>\n",
       "    <tr>\n",
       "      <th>max</th>\n",
       "      <td>7.900000</td>\n",
       "      <td>4.400000</td>\n",
       "      <td>6.900000</td>\n",
       "      <td>2.500000</td>\n",
       "    </tr>\n",
       "  </tbody>\n",
       "</table>\n",
       "</div>"
      ],
      "text/plain": [
       "       SepalLengthCm  SepalWidthCm  PetalLengthCm  PetalWidthCm\n",
       "count     147.000000    147.000000     147.000000    147.000000\n",
       "mean        5.856463      3.055782       3.780272      1.208844\n",
       "std         0.829100      0.437009       1.759111      0.757874\n",
       "min         4.300000      2.000000       1.000000      0.100000\n",
       "25%         5.100000      2.800000       1.600000      0.300000\n",
       "50%         5.800000      3.000000       4.400000      1.300000\n",
       "75%         6.400000      3.300000       5.100000      1.800000\n",
       "max         7.900000      4.400000       6.900000      2.500000"
      ]
     },
     "execution_count": 18,
     "metadata": {},
     "output_type": "execute_result"
    }
   ],
   "source": [
    "# to display stats about data\n",
    "df.describe()"
   ]
  },
  {
   "cell_type": "code",
   "execution_count": 19,
   "id": "78f8ce7d",
   "metadata": {},
   "outputs": [
    {
     "data": {
      "text/html": [
       "<div>\n",
       "<style scoped>\n",
       "    .dataframe tbody tr th:only-of-type {\n",
       "        vertical-align: middle;\n",
       "    }\n",
       "\n",
       "    .dataframe tbody tr th {\n",
       "        vertical-align: top;\n",
       "    }\n",
       "\n",
       "    .dataframe thead th {\n",
       "        text-align: right;\n",
       "    }\n",
       "</style>\n",
       "<table border=\"1\" class=\"dataframe\">\n",
       "  <thead>\n",
       "    <tr style=\"text-align: right;\">\n",
       "      <th></th>\n",
       "      <th>SepalLengthCm</th>\n",
       "      <th>SepalWidthCm</th>\n",
       "      <th>PetalLengthCm</th>\n",
       "      <th>PetalWidthCm</th>\n",
       "    </tr>\n",
       "  </thead>\n",
       "  <tbody>\n",
       "    <tr>\n",
       "      <th>SepalLengthCm</th>\n",
       "      <td>1.000000</td>\n",
       "      <td>-0.109321</td>\n",
       "      <td>0.871305</td>\n",
       "      <td>0.817058</td>\n",
       "    </tr>\n",
       "    <tr>\n",
       "      <th>SepalWidthCm</th>\n",
       "      <td>-0.109321</td>\n",
       "      <td>1.000000</td>\n",
       "      <td>-0.421057</td>\n",
       "      <td>-0.356376</td>\n",
       "    </tr>\n",
       "    <tr>\n",
       "      <th>PetalLengthCm</th>\n",
       "      <td>0.871305</td>\n",
       "      <td>-0.421057</td>\n",
       "      <td>1.000000</td>\n",
       "      <td>0.961883</td>\n",
       "    </tr>\n",
       "    <tr>\n",
       "      <th>PetalWidthCm</th>\n",
       "      <td>0.817058</td>\n",
       "      <td>-0.356376</td>\n",
       "      <td>0.961883</td>\n",
       "      <td>1.000000</td>\n",
       "    </tr>\n",
       "  </tbody>\n",
       "</table>\n",
       "</div>"
      ],
      "text/plain": [
       "               SepalLengthCm  SepalWidthCm  PetalLengthCm  PetalWidthCm\n",
       "SepalLengthCm       1.000000     -0.109321       0.871305      0.817058\n",
       "SepalWidthCm       -0.109321      1.000000      -0.421057     -0.356376\n",
       "PetalLengthCm       0.871305     -0.421057       1.000000      0.961883\n",
       "PetalWidthCm        0.817058     -0.356376       0.961883      1.000000"
      ]
     },
     "execution_count": 19,
     "metadata": {},
     "output_type": "execute_result"
    }
   ],
   "source": [
    "df.corr()"
   ]
  },
  {
   "cell_type": "markdown",
   "id": "2fedfe55",
   "metadata": {},
   "source": [
    "# Exploratory Data Analysis"
   ]
  },
  {
   "cell_type": "markdown",
   "id": "1cc07968",
   "metadata": {},
   "source": [
    "**I will now visualise this data by plotting it on a graph.**"
   ]
  },
  {
   "cell_type": "code",
   "execution_count": 21,
   "id": "def6dcba",
   "metadata": {},
   "outputs": [
    {
     "data": {
      "image/png": "[encoded data removed]",
      "text/plain": [
       "<Figure size 432x288 with 1 Axes>"
      ]
     },
     "metadata": {},
     "output_type": "display_data"
    }
   ],
   "source": [
    "fig = plt.figure()\n",
    "ax = fig.add_axes([0,0,1,1])\n",
    "ax.axis('equal')\n",
    "l = ['Versicolor', 'Setosa', 'Virginica']\n",
    "s = [50,50,50]\n",
    "ax.pie(s, labels = l,autopct='%1.2f%%')\n",
    "plt.show()"
   ]
  },
  {
   "cell_type": "markdown",
   "id": "6ab0eb84",
   "metadata": {},
   "source": [
    "**The resulting pie chart will visually represent the distribution of the three iris flower species ('Versicolor', 'Setosa', and 'Virginica') based on the equal segment sizes you provided (50, 50, 50). The labels on the chart will show the species names, and the percentages will indicate the proportion of each species in the dataset.**"
   ]
  },
  {
   "cell_type": "code",
   "execution_count": 22,
   "id": "b4a26ec3",
   "metadata": {},
   "outputs": [
    {
     "data": {
      "image/png": "[encoded data removed]",
      "text/plain": [
       "<Figure size 432x288 with 1 Axes>"
      ]
     },
     "metadata": {
      "needs_background": "light"
     },
     "output_type": "display_data"
    },
    {
     "data": {
      "image/png": "[encoded data removed]",
      "text/plain": [
       "<Figure size 432x288 with 1 Axes>"
      ]
     },
     "metadata": {
      "needs_background": "light"
     },
     "output_type": "display_data"
    }
   ],
   "source": [
    "#Checking for outliars\n",
    "import matplotlib.pyplot as plt\n",
    "plt.figure(1)\n",
    "plt.boxplot([df['SepalLengthCm']])\n",
    "plt.xlabel(\"SepalLengthCm\")\n",
    "plt.figure(2)\n",
    "plt.boxplot([df['SepalWidthCm']])\n",
    "plt.xlabel(\"SepalWidthCm\")  # naming x-axis\n",
    "plt.show()"
   ]
  },
  {
   "cell_type": "markdown",
   "id": "1062976c",
   "metadata": {},
   "source": [
    "**The boxplots visually represent the distribution of data for each column, showcasing the median, quartiles, and potential outliers. This helps in identifying any unusual or extreme values in these columns, aiding in understanding the data's variability and potential data quality issues.**"
   ]
  },
  {
   "cell_type": "code",
   "execution_count": 23,
   "id": "168c0c16",
   "metadata": {},
   "outputs": [
    {
     "data": {
      "text/plain": [
       "<AxesSubplot:>"
      ]
     },
     "execution_count": 23,
     "metadata": {},
     "output_type": "execute_result"
    },
    {
     "data": {
      "image/png": "[encoded data removed]",
      "text/plain": [
       "<Figure size 432x288 with 1 Axes>"
      ]
     },
     "metadata": {
      "needs_background": "light"
     },
     "output_type": "display_data"
    }
   ],
   "source": [
    "# histograms\n",
    "df['SepalLengthCm'].hist()"
   ]
  },
  {
   "cell_type": "markdown",
   "id": "e8b0f2de",
   "metadata": {},
   "source": [
    "**Histogram to show the distribution of sepal lengths ('SepalLengthCm') in the dataset. This helps visualize the frequency of different sepal length ranges, revealing insights about the data's central tendency and spread.**"
   ]
  },
  {
   "cell_type": "code",
   "execution_count": 24,
   "id": "3d782ace",
   "metadata": {},
   "outputs": [
    {
     "data": {
      "text/plain": [
       "<AxesSubplot:>"
      ]
     },
     "execution_count": 24,
     "metadata": {},
     "output_type": "execute_result"
    },
    {
     "data": {
      "image/png": "[encoded data removed]",
      "text/plain": [
       "<Figure size 432x288 with 1 Axes>"
      ]
     },
     "metadata": {
      "needs_background": "light"
     },
     "output_type": "display_data"
    }
   ],
   "source": [
    "df['SepalWidthCm'].hist()"
   ]
  },
  {
   "cell_type": "markdown",
   "id": "1b9a6e90",
   "metadata": {},
   "source": [
    "**The code produces a histogram displaying the distribution of sepal widths ('SepalWidthCm') in the dataset. This histogram visualizes the frequency of different sepal width ranges, helping to grasp the data's spread and patterns.**"
   ]
  },
  {
   "cell_type": "code",
   "execution_count": 25,
   "id": "01655268",
   "metadata": {},
   "outputs": [
    {
     "data": {
      "text/plain": [
       "<AxesSubplot:>"
      ]
     },
     "execution_count": 25,
     "metadata": {},
     "output_type": "execute_result"
    },
    {
     "data": {
      "image/png": "[encoded data removed]",
      "text/plain": [
       "<Figure size 432x288 with 1 Axes>"
      ]
     },
     "metadata": {
      "needs_background": "light"
     },
     "output_type": "display_data"
    }
   ],
   "source": [
    "df['PetalLengthCm'].hist()"
   ]
  },
  {
   "cell_type": "markdown",
   "id": "86b8b034",
   "metadata": {},
   "source": [
    "**creates a histogram representing the distribution of petal lengths ('PetalLengthCm') in the dataset. This histogram offers a visual summary of the frequency of different petal length ranges, aiding in understanding the data's variability and potential characteristics.**"
   ]
  },
  {
   "cell_type": "code",
   "execution_count": 26,
   "id": "156e85a5",
   "metadata": {},
   "outputs": [
    {
     "data": {
      "text/plain": [
       "<AxesSubplot:>"
      ]
     },
     "execution_count": 26,
     "metadata": {},
     "output_type": "execute_result"
    },
    {
     "data": {
      "image/png": "[encoded data removed]",
      "text/plain": [
       "<Figure size 432x288 with 1 Axes>"
      ]
     },
     "metadata": {
      "needs_background": "light"
     },
     "output_type": "display_data"
    }
   ],
   "source": [
    "df['PetalWidthCm'].hist()"
   ]
  },
  {
   "cell_type": "markdown",
   "id": "f3c841d8",
   "metadata": {},
   "source": [
    "**generates a histogram illustrating the distribution of petal widths ('PetalWidthCm') in the dataset. This histogram provides a visual overview of the frequency of different petal width ranges, helping to analyze the data's spread and potential patterns.**"
   ]
  },
  {
   "cell_type": "code",
   "execution_count": 27,
   "id": "edb5cfdc",
   "metadata": {},
   "outputs": [],
   "source": [
    "# scatterplot\n",
    "colors = ['red', 'orange', 'blue']\n",
    "species = ['Iris-virginica','Iris-versicolor','Iris-setosa']"
   ]
  },
  {
   "cell_type": "code",
   "execution_count": 28,
   "id": "8a4d356f",
   "metadata": {},
   "outputs": [
    {
     "data": {
      "text/plain": [
       "<matplotlib.legend.Legend at 0x25a5e1ed948>"
      ]
     },
     "execution_count": 28,
     "metadata": {},
     "output_type": "execute_result"
    },
    {
     "data": {
      "image/png": "[encoded data removed]",
      "text/plain": [
       "<Figure size 432x288 with 1 Axes>"
      ]
     },
     "metadata": {
      "needs_background": "light"
     },
     "output_type": "display_data"
    }
   ],
   "source": [
    "for i in range(3):\n",
    "    x = df[df['Species'] == species[i]]\n",
    "    plt.scatter(x['SepalLengthCm'], x['SepalWidthCm'], c = colors[i], label=species[i])\n",
    "plt.xlabel(\"Sepal Length\")\n",
    "plt.ylabel(\"Sepal Width\")\n",
    "plt.legend()"
   ]
  },
  {
   "cell_type": "markdown",
   "id": "12c5b6f9",
   "metadata": {},
   "source": [
    "**I generates a scatterplot that visualizes the relationship between sepal length and sepal width for each of the three iris flower species. Different colors distinguish the species, and the legend helps identify them. This type of visualization is useful for observing how sepal dimensions vary across different species.**"
   ]
  },
  {
   "cell_type": "code",
   "execution_count": 29,
   "id": "5127e620",
   "metadata": {},
   "outputs": [
    {
     "data": {
      "text/plain": [
       "<matplotlib.legend.Legend at 0x25a5e24c208>"
      ]
     },
     "execution_count": 29,
     "metadata": {},
     "output_type": "execute_result"
    },
    {
     "data": {
      "image/png": "[encoded data removed]",
      "text/plain": [
       "<Figure size 432x288 with 1 Axes>"
      ]
     },
     "metadata": {
      "needs_background": "light"
     },
     "output_type": "display_data"
    }
   ],
   "source": [
    "for i in range(3):\n",
    "    x = df[df['Species'] == species[i]]\n",
    "    plt.scatter(x['PetalLengthCm'], x['PetalWidthCm'], c = colors[i], label=species[i])\n",
    "plt.xlabel(\"Petal Length\")\n",
    "plt.ylabel(\"Petal Width\")\n",
    "plt.legend()"
   ]
  },
  {
   "cell_type": "markdown",
   "id": "660b739b",
   "metadata": {},
   "source": [
    "**I generates a scatterplot that visualizes the relationship between petal length and petal width for each of the three iris flower species. Different colors distinguish the species, and the legend helps identify them.**"
   ]
  },
  {
   "cell_type": "code",
   "execution_count": 30,
   "id": "0f11c23e",
   "metadata": {},
   "outputs": [
    {
     "data": {
      "text/plain": [
       "<matplotlib.legend.Legend at 0x25a5ddc2088>"
      ]
     },
     "execution_count": 30,
     "metadata": {},
     "output_type": "execute_result"
    },
    {
     "data": {
      "image/png": "[encoded data removed]",
      "text/plain": [
       "<Figure size 432x288 with 1 Axes>"
      ]
     },
     "metadata": {
      "needs_background": "light"
     },
     "output_type": "display_data"
    }
   ],
   "source": [
    "for i in range(3):\n",
    "    x = df[df['Species'] == species[i]]\n",
    "    plt.scatter(x['SepalLengthCm'], x['PetalLengthCm'], c = colors[i], label=species[i])\n",
    "plt.xlabel(\"Sepal Length\")\n",
    "plt.ylabel(\"Petal Length\")\n",
    "plt.legend()"
   ]
  },
  {
   "cell_type": "markdown",
   "id": "bf3e3d43",
   "metadata": {},
   "source": [
    "**I generates a scatterplot that illustrates the relationship between sepal length and petal length for each of the three iris flower species. Different colors differentiate the species, and the legend helps identify them. This visualization allows you to observe how sepal and petal dimensions are distributed across different species.**"
   ]
  },
  {
   "cell_type": "code",
   "execution_count": 31,
   "id": "f3b8b7b3",
   "metadata": {},
   "outputs": [
    {
     "data": {
      "text/plain": [
       "<matplotlib.legend.Legend at 0x25a5bc901c8>"
      ]
     },
     "execution_count": 31,
     "metadata": {},
     "output_type": "execute_result"
    },
    {
     "data": {
      "image/png": "[encoded data removed]",
      "text/plain": [
       "<Figure size 432x288 with 1 Axes>"
      ]
     },
     "metadata": {
      "needs_background": "light"
     },
     "output_type": "display_data"
    }
   ],
   "source": [
    "for i in range(3):\n",
    "    x = df[df['Species'] == species[i]]\n",
    "    plt.scatter(x['SepalWidthCm'], x['PetalWidthCm'], c = colors[i], label=species[i])\n",
    "plt.xlabel(\"Sepal Width\")\n",
    "plt.ylabel(\"Petal Width\")\n",
    "plt.legend()"
   ]
  },
  {
   "cell_type": "markdown",
   "id": "c2fd178d",
   "metadata": {},
   "source": [
    "**generates a scatterplot that illustrates the relationship between sepal width and petal width for each of the three iris flower species. Different colors differentiate the species, and the legend helps identify them. This visualization allows you to observe how sepal and petal dimensions vary across different species.**"
   ]
  },
  {
   "cell_type": "markdown",
   "id": "8fd17e71",
   "metadata": {},
   "source": [
    "# Coorelation Matrix\n",
    "A correlation matrix is a table showing correlation coefficients between variables. <br>\n",
    "Each cell in the table shows the correlation between two variables. The value is in the range of -1 to 1. If two varibles have high correlation, we can neglect one variable from those two."
   ]
  },
  {
   "cell_type": "code",
   "execution_count": 32,
   "id": "2f73300a",
   "metadata": {},
   "outputs": [
    {
     "data": {
      "text/html": [
       "<div>\n",
       "<style scoped>\n",
       "    .dataframe tbody tr th:only-of-type {\n",
       "        vertical-align: middle;\n",
       "    }\n",
       "\n",
       "    .dataframe tbody tr th {\n",
       "        vertical-align: top;\n",
       "    }\n",
       "\n",
       "    .dataframe thead th {\n",
       "        text-align: right;\n",
       "    }\n",
       "</style>\n",
       "<table border=\"1\" class=\"dataframe\">\n",
       "  <thead>\n",
       "    <tr style=\"text-align: right;\">\n",
       "      <th></th>\n",
       "      <th>SepalLengthCm</th>\n",
       "      <th>SepalWidthCm</th>\n",
       "      <th>PetalLengthCm</th>\n",
       "      <th>PetalWidthCm</th>\n",
       "    </tr>\n",
       "  </thead>\n",
       "  <tbody>\n",
       "    <tr>\n",
       "      <th>SepalLengthCm</th>\n",
       "      <td>1.000000</td>\n",
       "      <td>-0.109321</td>\n",
       "      <td>0.871305</td>\n",
       "      <td>0.817058</td>\n",
       "    </tr>\n",
       "    <tr>\n",
       "      <th>SepalWidthCm</th>\n",
       "      <td>-0.109321</td>\n",
       "      <td>1.000000</td>\n",
       "      <td>-0.421057</td>\n",
       "      <td>-0.356376</td>\n",
       "    </tr>\n",
       "    <tr>\n",
       "      <th>PetalLengthCm</th>\n",
       "      <td>0.871305</td>\n",
       "      <td>-0.421057</td>\n",
       "      <td>1.000000</td>\n",
       "      <td>0.961883</td>\n",
       "    </tr>\n",
       "    <tr>\n",
       "      <th>PetalWidthCm</th>\n",
       "      <td>0.817058</td>\n",
       "      <td>-0.356376</td>\n",
       "      <td>0.961883</td>\n",
       "      <td>1.000000</td>\n",
       "    </tr>\n",
       "  </tbody>\n",
       "</table>\n",
       "</div>"
      ],
      "text/plain": [
       "               SepalLengthCm  SepalWidthCm  PetalLengthCm  PetalWidthCm\n",
       "SepalLengthCm       1.000000     -0.109321       0.871305      0.817058\n",
       "SepalWidthCm       -0.109321      1.000000      -0.421057     -0.356376\n",
       "PetalLengthCm       0.871305     -0.421057       1.000000      0.961883\n",
       "PetalWidthCm        0.817058     -0.356376       0.961883      1.000000"
      ]
     },
     "execution_count": 32,
     "metadata": {},
     "output_type": "execute_result"
    }
   ],
   "source": [
    "df.corr()"
   ]
  },
  {
   "cell_type": "code",
   "execution_count": 33,
   "id": "55cb98c7",
   "metadata": {},
   "outputs": [
    {
     "data": {
      "text/plain": [
       "<AxesSubplot:>"
      ]
     },
     "execution_count": 33,
     "metadata": {},
     "output_type": "execute_result"
    },
    {
     "data": {
      "image/png": "[encoded data removed]",
      "text/plain": [
       "<Figure size 360x288 with 2 Axes>"
      ]
     },
     "metadata": {
      "needs_background": "light"
     },
     "output_type": "display_data"
    }
   ],
   "source": [
    "corr = df.corr()\n",
    "fig, ax = plt.subplots(figsize=(5,4))\n",
    "sns.heatmap(corr, annot=True, ax=ax, cmap = 'coolwarm')"
   ]
  },
  {
   "cell_type": "markdown",
   "id": "65699ef4",
   "metadata": {},
   "source": [
    "**This heatmap visualization provides a clear visual representation of the correlation between different numeric features in the dataset. Positive and negative correlations are easily identifiable, allowing you to gain insights into relationships and dependencies among variables.**"
   ]
  },
  {
   "cell_type": "markdown",
   "id": "e1b17029",
   "metadata": {},
   "source": [
    "Strong Positive Correlations: There are strong positive correlations between PetalLengthCm and PetalWidthCm (0.96), as well as between SepalLengthCm and PetalLengthCm (0.87). This suggests that as one of these features increases, the other tends to increase as well.\n",
    "\n",
    "Moderate Positive Correlations: There is a moderate positive correlation between SepalLengthCm and PetalWidthCm (0.81), indicating that larger sepal lengths tend to be associated with larger petal widths.\n",
    "\n",
    "Weak Negative Correlations: There is a weak negative correlation between SepalLengthCm and SepalWidthCm (-0.10), as well as between SepalWidthCm and PetalLengthCm (-0.42). These correlations suggest that as one feature increases, the other tends to decrease slightly.\n",
    "\n",
    "No Strong Negative Correlations: None of the correlations are strongly negative (close to -1), which suggests that the features generally move in the same direction, either positively or not at all"
   ]
  },
  {
   "cell_type": "markdown",
   "id": "f522a39f",
   "metadata": {},
   "source": [
    "# Label Encoder\n",
    "In machine learning, we usually deal with datasets which contains multiple labels in one or more than one columns. <br>\n",
    "These labels can be in the form of words or numbers. \n",
    "Label Encoding refers to converting the labels into numeric form so as to convert it into the machine-readable form"
   ]
  },
  {
   "cell_type": "code",
   "execution_count": null,
   "id": "3a2b87bd",
   "metadata": {},
   "outputs": [],
   "source": [
    "from sklearn.preprocessing import LabelEncoder\n",
    "le = LabelEncoder()"
   ]
  },
  {
   "cell_type": "code",
   "execution_count": null,
   "id": "9932f09e",
   "metadata": {},
   "outputs": [],
   "source": [
    "df['Species'] = le.fit_transform(df['Species'])\n",
    "df.head()"
   ]
  },
  {
   "cell_type": "markdown",
   "id": "832977bb",
   "metadata": {},
   "source": [
    "# Model Training"
   ]
  },
  {
   "cell_type": "code",
   "execution_count": null,
   "id": "fe341f72",
   "metadata": {},
   "outputs": [],
   "source": [
    "from sklearn.model_selection import train_test_split\n",
    "from sklearn.metrics import accuracy_score\n",
    "# train - 70\n",
    "# test - 30\n",
    "X = df.drop(columns=['Species'])\n",
    "Y = df['Species']\n",
    "x_train, x_test, y_train, y_test = train_test_split(X, Y, test_size=0.30)\n"
   ]
  },
  {
   "cell_type": "code",
   "execution_count": null,
   "id": "af2fa323",
   "metadata": {},
   "outputs": [],
   "source": [
    "#Using LogisticRegression\n",
    "from sklearn.linear_model import LogisticRegression \n",
    "\n",
    "model1 = LogisticRegression()\n",
    "\n",
    "# model training\n",
    "model1.fit(x_train, y_train)\n",
    "\n",
    "# Make predictions on the test data\n",
    "model_pred1 = model1.predict(x_test)\n",
    "\n",
    "\n",
    "# Calculate and print the accuracy\n",
    "print('Accuracy:',accuracy_score(model_pred1,y_test))"
   ]
  },
  {
   "cell_type": "code",
   "execution_count": null,
   "id": "570ff64b",
   "metadata": {},
   "outputs": [],
   "source": [
    "# knn - k-nearest neighbours\n",
    "from sklearn.neighbors import KNeighborsClassifier\n",
    "# Create a KNN classifier with 5 neighbors\n",
    "\n",
    "knn = KNeighborsClassifier(n_neighbors=3)\n",
    "\n",
    "# Model training\n",
    "knn.fit(x_train, y_train)\n",
    "\n",
    "# Prediction of the iris species for the test set\n",
    "y_pred = knn.predict(x_test)\n",
    "\n",
    "# Calculating the accuracy of the model\n",
    "accuracy = accuracy_score(y_test, y_pred)\n",
    "print(f\"Accuracy: {accuracy}\")"
   ]
  },
  {
   "cell_type": "code",
   "execution_count": null,
   "id": "6aa5ab80",
   "metadata": {},
   "outputs": [],
   "source": [
    "# decision tree classifier\n",
    "from sklearn.tree import DecisionTreeClassifier\n",
    "\n",
    "model3 = DecisionTreeClassifier(criterion='entropy',random_state=7)\n",
    "\n",
    "# Model training\n",
    "model3.fit(x_train, y_train)\n",
    "\n",
    "# Make predictions on the test data\n",
    "model_pred3 = model3.predict(x_test)\n",
    "\n",
    "# Calculate and print the accuracy\n",
    "print('Accuracy:',accuracy_score(model_pred3,y_test))"
   ]
  },
  {
   "cell_type": "code",
   "execution_count": null,
   "id": "95c0dbbc",
   "metadata": {},
   "outputs": [],
   "source": [
    "# Support Vector Classifier (SVC)\n",
    "from sklearn.svm import SVC\n",
    "model4 = SVC()\n",
    "\n",
    "#model training\n",
    "model4.fit(x_train,y_train)\n",
    "\n",
    "# Make predictions on the test data\n",
    "model_pred4 = model4.predict(x_test)\n",
    "\n",
    "from sklearn.metrics import accuracy_score\n",
    "print('Accuracy:',accuracy_score(model_pred4,y_test))"
   ]
  },
  {
   "cell_type": "markdown",
   "id": "f77eafd3",
   "metadata": {},
   "source": [
    "I choose the best accuracy model are using Kneighbours classifier algorithm"
   ]
  }
 ],
 "metadata": {
  "kernelspec": {
   "display_name": "Python 3",
   "language": "python",
   "name": "python3"
  },
  "language_info": {
   "codemirror_mode": {
    "name": "ipython",
    "version": 3
   },
   "file_extension": ".py",
   "mimetype": "text/x-python",
   "name": "python",
   "nbconvert_exporter": "python",
   "pygments_lexer": "ipython3",
   "version": "3.7.6"
  }
 },
 "nbformat": 4,
 "nbformat_minor": 5
}
